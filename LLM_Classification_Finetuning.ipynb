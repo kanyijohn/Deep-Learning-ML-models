{
  "nbformat": 4,
  "nbformat_minor": 0,
  "metadata": {
    "colab": {
      "provenance": [],
      "gpuType": "T4",
      "authorship_tag": "ABX9TyPtVGfv+NxhFXf5+G8Fg+RA",
      "include_colab_link": true
    },
    "kernelspec": {
      "name": "python3",
      "display_name": "Python 3"
    },
    "language_info": {
      "name": "python"
    },
    "accelerator": "GPU"
  },
  "cells": [
    {
      "cell_type": "markdown",
      "metadata": {
        "id": "view-in-github",
        "colab_type": "text"
      },
      "source": [
        "<a href=\"https://colab.research.google.com/github/kanyijohn/Deep-Learning-ML-models/blob/main/LLM_Classification_Finetuning.ipynb\" target=\"_parent\"><img src=\"https://colab.research.google.com/assets/colab-badge.svg\" alt=\"Open In Colab\"/></a>"
      ]
    },
    {
      "cell_type": "code",
      "source": [
        "!pip install kaggle"
      ],
      "metadata": {
        "colab": {
          "base_uri": "https://localhost:8080/"
        },
        "id": "Z7F7yrVUWKzH",
        "outputId": "6fcff55a-2dea-4980-acca-fb7e49b3851a"
      },
      "execution_count": null,
      "outputs": [
        {
          "output_type": "stream",
          "name": "stdout",
          "text": [
            "Requirement already satisfied: kaggle in /usr/local/lib/python3.11/dist-packages (1.7.4.5)\n",
            "Requirement already satisfied: bleach in /usr/local/lib/python3.11/dist-packages (from kaggle) (6.2.0)\n",
            "Requirement already satisfied: certifi>=14.05.14 in /usr/local/lib/python3.11/dist-packages (from kaggle) (2025.6.15)\n",
            "Requirement already satisfied: charset-normalizer in /usr/local/lib/python3.11/dist-packages (from kaggle) (3.4.2)\n",
            "Requirement already satisfied: idna in /usr/local/lib/python3.11/dist-packages (from kaggle) (3.10)\n",
            "Requirement already satisfied: protobuf in /usr/local/lib/python3.11/dist-packages (from kaggle) (5.29.5)\n",
            "Requirement already satisfied: python-dateutil>=2.5.3 in /usr/local/lib/python3.11/dist-packages (from kaggle) (2.9.0.post0)\n",
            "Requirement already satisfied: python-slugify in /usr/local/lib/python3.11/dist-packages (from kaggle) (8.0.4)\n",
            "Requirement already satisfied: requests in /usr/local/lib/python3.11/dist-packages (from kaggle) (2.32.3)\n",
            "Requirement already satisfied: setuptools>=21.0.0 in /usr/local/lib/python3.11/dist-packages (from kaggle) (75.2.0)\n",
            "Requirement already satisfied: six>=1.10 in /usr/local/lib/python3.11/dist-packages (from kaggle) (1.17.0)\n",
            "Requirement already satisfied: text-unidecode in /usr/local/lib/python3.11/dist-packages (from kaggle) (1.3)\n",
            "Requirement already satisfied: tqdm in /usr/local/lib/python3.11/dist-packages (from kaggle) (4.67.1)\n",
            "Requirement already satisfied: urllib3>=1.15.1 in /usr/local/lib/python3.11/dist-packages (from kaggle) (2.4.0)\n",
            "Requirement already satisfied: webencodings in /usr/local/lib/python3.11/dist-packages (from kaggle) (0.5.1)\n"
          ]
        }
      ]
    },
    {
      "cell_type": "code",
      "source": [
        "from google.colab import files\n",
        "import json\n",
        "\n",
        "# Upload the file again\n",
        "uploaded = files.upload()\n",
        "\n",
        "# Verify the contents (make sure username & key are correct)\n",
        "for filename in uploaded.keys():\n",
        "    print(f\"Uploaded: {filename}\")\n",
        "    print(uploaded[filename].decode('utf-8'))  # Check the key is correct"
      ],
      "metadata": {
        "colab": {
          "base_uri": "https://localhost:8080/",
          "height": 107
        },
        "id": "tm_l71XefGpN",
        "outputId": "d5849553-1bbb-4a28-a700-34374988fca4"
      },
      "execution_count": null,
      "outputs": [
        {
          "output_type": "display_data",
          "data": {
            "text/plain": [
              "<IPython.core.display.HTML object>"
            ],
            "text/html": [
              "\n",
              "     <input type=\"file\" id=\"files-0a678ec6-e096-4cf3-9526-65fa3407d97d\" name=\"files[]\" multiple disabled\n",
              "        style=\"border:none\" />\n",
              "     <output id=\"result-0a678ec6-e096-4cf3-9526-65fa3407d97d\">\n",
              "      Upload widget is only available when the cell has been executed in the\n",
              "      current browser session. Please rerun this cell to enable.\n",
              "      </output>\n",
              "      <script>// Copyright 2017 Google LLC\n",
              "//\n",
              "// Licensed under the Apache License, Version 2.0 (the \"License\");\n",
              "// you may not use this file except in compliance with the License.\n",
              "// You may obtain a copy of the License at\n",
              "//\n",
              "//      http://www.apache.org/licenses/LICENSE-2.0\n",
              "//\n",
              "// Unless required by applicable law or agreed to in writing, software\n",
              "// distributed under the License is distributed on an \"AS IS\" BASIS,\n",
              "// WITHOUT WARRANTIES OR CONDITIONS OF ANY KIND, either express or implied.\n",
              "// See the License for the specific language governing permissions and\n",
              "// limitations under the License.\n",
              "\n",
              "/**\n",
              " * @fileoverview Helpers for google.colab Python module.\n",
              " */\n",
              "(function(scope) {\n",
              "function span(text, styleAttributes = {}) {\n",
              "  const element = document.createElement('span');\n",
              "  element.textContent = text;\n",
              "  for (const key of Object.keys(styleAttributes)) {\n",
              "    element.style[key] = styleAttributes[key];\n",
              "  }\n",
              "  return element;\n",
              "}\n",
              "\n",
              "// Max number of bytes which will be uploaded at a time.\n",
              "const MAX_PAYLOAD_SIZE = 100 * 1024;\n",
              "\n",
              "function _uploadFiles(inputId, outputId) {\n",
              "  const steps = uploadFilesStep(inputId, outputId);\n",
              "  const outputElement = document.getElementById(outputId);\n",
              "  // Cache steps on the outputElement to make it available for the next call\n",
              "  // to uploadFilesContinue from Python.\n",
              "  outputElement.steps = steps;\n",
              "\n",
              "  return _uploadFilesContinue(outputId);\n",
              "}\n",
              "\n",
              "// This is roughly an async generator (not supported in the browser yet),\n",
              "// where there are multiple asynchronous steps and the Python side is going\n",
              "// to poll for completion of each step.\n",
              "// This uses a Promise to block the python side on completion of each step,\n",
              "// then passes the result of the previous step as the input to the next step.\n",
              "function _uploadFilesContinue(outputId) {\n",
              "  const outputElement = document.getElementById(outputId);\n",
              "  const steps = outputElement.steps;\n",
              "\n",
              "  const next = steps.next(outputElement.lastPromiseValue);\n",
              "  return Promise.resolve(next.value.promise).then((value) => {\n",
              "    // Cache the last promise value to make it available to the next\n",
              "    // step of the generator.\n",
              "    outputElement.lastPromiseValue = value;\n",
              "    return next.value.response;\n",
              "  });\n",
              "}\n",
              "\n",
              "/**\n",
              " * Generator function which is called between each async step of the upload\n",
              " * process.\n",
              " * @param {string} inputId Element ID of the input file picker element.\n",
              " * @param {string} outputId Element ID of the output display.\n",
              " * @return {!Iterable<!Object>} Iterable of next steps.\n",
              " */\n",
              "function* uploadFilesStep(inputId, outputId) {\n",
              "  const inputElement = document.getElementById(inputId);\n",
              "  inputElement.disabled = false;\n",
              "\n",
              "  const outputElement = document.getElementById(outputId);\n",
              "  outputElement.innerHTML = '';\n",
              "\n",
              "  const pickedPromise = new Promise((resolve) => {\n",
              "    inputElement.addEventListener('change', (e) => {\n",
              "      resolve(e.target.files);\n",
              "    });\n",
              "  });\n",
              "\n",
              "  const cancel = document.createElement('button');\n",
              "  inputElement.parentElement.appendChild(cancel);\n",
              "  cancel.textContent = 'Cancel upload';\n",
              "  const cancelPromise = new Promise((resolve) => {\n",
              "    cancel.onclick = () => {\n",
              "      resolve(null);\n",
              "    };\n",
              "  });\n",
              "\n",
              "  // Wait for the user to pick the files.\n",
              "  const files = yield {\n",
              "    promise: Promise.race([pickedPromise, cancelPromise]),\n",
              "    response: {\n",
              "      action: 'starting',\n",
              "    }\n",
              "  };\n",
              "\n",
              "  cancel.remove();\n",
              "\n",
              "  // Disable the input element since further picks are not allowed.\n",
              "  inputElement.disabled = true;\n",
              "\n",
              "  if (!files) {\n",
              "    return {\n",
              "      response: {\n",
              "        action: 'complete',\n",
              "      }\n",
              "    };\n",
              "  }\n",
              "\n",
              "  for (const file of files) {\n",
              "    const li = document.createElement('li');\n",
              "    li.append(span(file.name, {fontWeight: 'bold'}));\n",
              "    li.append(span(\n",
              "        `(${file.type || 'n/a'}) - ${file.size} bytes, ` +\n",
              "        `last modified: ${\n",
              "            file.lastModifiedDate ? file.lastModifiedDate.toLocaleDateString() :\n",
              "                                    'n/a'} - `));\n",
              "    const percent = span('0% done');\n",
              "    li.appendChild(percent);\n",
              "\n",
              "    outputElement.appendChild(li);\n",
              "\n",
              "    const fileDataPromise = new Promise((resolve) => {\n",
              "      const reader = new FileReader();\n",
              "      reader.onload = (e) => {\n",
              "        resolve(e.target.result);\n",
              "      };\n",
              "      reader.readAsArrayBuffer(file);\n",
              "    });\n",
              "    // Wait for the data to be ready.\n",
              "    let fileData = yield {\n",
              "      promise: fileDataPromise,\n",
              "      response: {\n",
              "        action: 'continue',\n",
              "      }\n",
              "    };\n",
              "\n",
              "    // Use a chunked sending to avoid message size limits. See b/62115660.\n",
              "    let position = 0;\n",
              "    do {\n",
              "      const length = Math.min(fileData.byteLength - position, MAX_PAYLOAD_SIZE);\n",
              "      const chunk = new Uint8Array(fileData, position, length);\n",
              "      position += length;\n",
              "\n",
              "      const base64 = btoa(String.fromCharCode.apply(null, chunk));\n",
              "      yield {\n",
              "        response: {\n",
              "          action: 'append',\n",
              "          file: file.name,\n",
              "          data: base64,\n",
              "        },\n",
              "      };\n",
              "\n",
              "      let percentDone = fileData.byteLength === 0 ?\n",
              "          100 :\n",
              "          Math.round((position / fileData.byteLength) * 100);\n",
              "      percent.textContent = `${percentDone}% done`;\n",
              "\n",
              "    } while (position < fileData.byteLength);\n",
              "  }\n",
              "\n",
              "  // All done.\n",
              "  yield {\n",
              "    response: {\n",
              "      action: 'complete',\n",
              "    }\n",
              "  };\n",
              "}\n",
              "\n",
              "scope.google = scope.google || {};\n",
              "scope.google.colab = scope.google.colab || {};\n",
              "scope.google.colab._files = {\n",
              "  _uploadFiles,\n",
              "  _uploadFilesContinue,\n",
              "};\n",
              "})(self);\n",
              "</script> "
            ]
          },
          "metadata": {}
        },
        {
          "output_type": "stream",
          "name": "stdout",
          "text": [
            "Saving kaggle.json to kaggle.json\n",
            "Uploaded: kaggle.json\n",
            "{\"username\":\"johnsonkanyi\",\"key\":\"f8e3cd38e45c532ab64524da20ece09e\"}\n"
          ]
        }
      ]
    },
    {
      "cell_type": "code",
      "source": [
        "!mkdir -p ~/.kaggle  # -p prevents error if dir exists\n",
        "!mv kaggle.json ~/.kaggle/\n",
        "!chmod 600 ~/.kaggle/kaggle.json  # Restrict permissions"
      ],
      "metadata": {
        "id": "B2qX3a54fNLl"
      },
      "execution_count": null,
      "outputs": []
    },
    {
      "cell_type": "code",
      "source": [
        "!kaggle competitions list  # Should list competitions (no 401 error)"
      ],
      "metadata": {
        "colab": {
          "base_uri": "https://localhost:8080/"
        },
        "id": "Q7D90HZnibOB",
        "outputId": "36bb2ba9-7923-4765-a157-215589eaad69"
      },
      "execution_count": null,
      "outputs": [
        {
          "output_type": "stream",
          "name": "stdout",
          "text": [
            "ref                                                                              deadline             category                reward  teamCount  userHasEntered  \n",
            "-------------------------------------------------------------------------------  -------------------  ---------------  -------------  ---------  --------------  \n",
            "https://www.kaggle.com/competitions/arc-prize-2025                               2025-11-03 23:59:00  Featured         1,000,000 Usd        550           False  \n",
            "https://www.kaggle.com/competitions/openai-to-z-challenge                        2025-06-29 23:59:00  Featured           400,000 Usd          0           False  \n",
            "https://www.kaggle.com/competitions/make-data-count-finding-data-references      2025-09-09 23:59:00  Research           100,000 Usd        278           False  \n",
            "https://www.kaggle.com/competitions/waveform-inversion                           2025-06-30 23:59:00  Research            50,000 Usd       1296           False  \n",
            "https://www.kaggle.com/competitions/cmi-detect-behavior-with-sensor-data         2025-09-02 23:59:00  Featured            50,000 Usd       1217           False  \n",
            "https://www.kaggle.com/competitions/neurips-open-polymer-prediction-2025         2025-09-15 23:59:00  Featured            50,000 Usd        566           False  \n",
            "https://www.kaggle.com/competitions/meta-kaggle-hackathon                        2025-07-21 23:59:00  Featured            50,000 Usd          0           False  \n",
            "https://www.kaggle.com/competitions/playground-series-s5e6                       2025-06-30 23:59:00  Playground                Swag       2012           False  \n",
            "https://www.kaggle.com/competitions/titanic                                      2030-01-01 00:00:00  Getting Started      Knowledge      15371           False  \n",
            "https://www.kaggle.com/competitions/home-data-for-ml-course                      2030-01-01 23:59:00  Getting Started      Knowledge       5395           False  \n",
            "https://www.kaggle.com/competitions/house-prices-advanced-regression-techniques  2030-01-01 00:00:00  Getting Started      Knowledge       4671           False  \n",
            "https://www.kaggle.com/competitions/spaceship-titanic                            2030-01-01 00:00:00  Getting Started      Knowledge       1929           False  \n",
            "https://www.kaggle.com/competitions/digit-recognizer                             2030-01-01 00:00:00  Getting Started      Knowledge       1346           False  \n",
            "https://www.kaggle.com/competitions/nlp-getting-started                          2030-01-01 00:00:00  Getting Started      Knowledge       1073            True  \n",
            "https://www.kaggle.com/competitions/store-sales-time-series-forecasting          2030-06-30 23:59:00  Getting Started      Knowledge        836           False  \n",
            "https://www.kaggle.com/competitions/llm-classification-finetuning                2030-07-01 23:59:00  Getting Started      Knowledge        315            True  \n",
            "https://www.kaggle.com/competitions/connectx                                     2030-01-01 00:00:00  Getting Started      Knowledge        180           False  \n",
            "https://www.kaggle.com/competitions/gan-getting-started                          2030-07-01 23:59:00  Getting Started      Knowledge        142           False  \n",
            "https://www.kaggle.com/competitions/contradictory-my-dear-watson                 2030-07-01 23:59:00  Getting Started      Knowledge         74           False  \n",
            "https://www.kaggle.com/competitions/tpu-getting-started                          2030-06-03 23:59:00  Getting Started      Knowledge         37           False  \n"
          ]
        }
      ]
    },
    {
      "cell_type": "code",
      "source": [
        "!kaggle competitions download -c llm-classification-finetuning"
      ],
      "metadata": {
        "colab": {
          "base_uri": "https://localhost:8080/"
        },
        "id": "Ky49ZrVN2Qi_",
        "outputId": "d619688a-e339-466e-c155-ec2cb5754136"
      },
      "execution_count": null,
      "outputs": [
        {
          "output_type": "stream",
          "name": "stdout",
          "text": [
            "Downloading llm-classification-finetuning.zip to /content\n",
            "\r  0% 0.00/57.0M [00:00<?, ?B/s]\n",
            "\r100% 57.0M/57.0M [00:00<00:00, 1.26GB/s]\n"
          ]
        }
      ]
    },
    {
      "cell_type": "code",
      "source": [
        "!unzip llm-classification-finetuning.zip"
      ],
      "metadata": {
        "colab": {
          "base_uri": "https://localhost:8080/"
        },
        "id": "axDJmE-Z3Rsu",
        "outputId": "6ac50413-b243-4e7d-cf2c-851b96ed509f"
      },
      "execution_count": null,
      "outputs": [
        {
          "output_type": "stream",
          "name": "stdout",
          "text": [
            "Archive:  llm-classification-finetuning.zip\n",
            "  inflating: sample_submission.csv   \n",
            "  inflating: test.csv                \n",
            "  inflating: train.csv               \n"
          ]
        }
      ]
    },
    {
      "cell_type": "code",
      "source": [
        "# @title Step 1: Setup and Data Loading\n",
        "\n",
        "import pandas as pd\n",
        "import numpy as np\n",
        "from sklearn.model_selection import train_test_split\n",
        "from sklearn.metrics import log_loss\n",
        "import tensorflow as tf\n",
        "from tensorflow.keras.models import Model\n",
        "from tensorflow.keras.layers import Input, Dense, Embedding, GlobalAveragePooling1D, concatenate\n",
        "from tensorflow.keras.preprocessing.text import Tokenizer\n",
        "from tensorflow.keras.preprocessing.sequence import pad_sequences\n",
        "import re # For text cleaning\n",
        "from nltk.corpus import stopwords\n",
        "import nltk\n",
        "import string\n",
        "\n",
        "# Download NLTK stopwords (if not already downloaded)\n",
        "try:\n",
        "    stopwords.words('english')\n",
        "except LookupError:\n",
        "    nltk.download('stopwords')\n",
        "\n",
        "# Load the datasets\n",
        "try:\n",
        "    train_df = pd.read_csv('train.csv')\n",
        "    test_df = pd.read_csv('test.csv')\n",
        "    sample_submission_df = pd.read_csv('sample_submission.csv')\n",
        "    print(\"Data loaded successfully!\")\n",
        "except FileNotFoundError:\n",
        "    print(\"Ensure train.csv, test.csv, and sample_submission.csv are in your Colab environment.\")\n",
        "    # You might need to upload the files or connect to Google Drive\n",
        "    # from google.colab import files\n",
        "    # uploaded = files.upload()\n",
        "    # For Kaggle competitions, the data is usually available in the input directory\n",
        "    # train_df = pd.read_csv('/kaggle/input/llm-classification-finetuning/train.csv')\n",
        "    # test_df = pd.read_csv('/kaggle/input/llm-classification-finetuning/test.csv')\n",
        "    # sample_submission_df = pd.read_csv('/kaggle/input/llm-classification-finetuning/sample_submission.csv')\n",
        "\n",
        "print(\"\\nTrain data shape:\", train_df.shape)\n",
        "print(\"Test data shape:\", test_df.shape)\n",
        "print(\"\\nTrain data head:\")\n",
        "print(train_df.head())\n",
        "print(\"\\nTest data head:\")\n",
        "print(test_df.head())\n",
        "print(\"\\nSample submission head:\")\n",
        "print(sample_submission_df.head())"
      ],
      "metadata": {
        "colab": {
          "base_uri": "https://localhost:8080/"
        },
        "id": "V8LSSA4a4ID_",
        "outputId": "e66cd32a-4f62-47a6-a01a-b6f17bfcd356"
      },
      "execution_count": null,
      "outputs": [
        {
          "output_type": "stream",
          "name": "stderr",
          "text": [
            "[nltk_data] Downloading package stopwords to /root/nltk_data...\n",
            "[nltk_data]   Unzipping corpora/stopwords.zip.\n"
          ]
        },
        {
          "output_type": "stream",
          "name": "stdout",
          "text": [
            "Data loaded successfully!\n",
            "\n",
            "Train data shape: (57477, 9)\n",
            "Test data shape: (3, 4)\n",
            "\n",
            "Train data head:\n",
            "       id             model_a              model_b  \\\n",
            "0   30192  gpt-4-1106-preview           gpt-4-0613   \n",
            "1   53567           koala-13b           gpt-4-0613   \n",
            "2   65089  gpt-3.5-turbo-0613       mistral-medium   \n",
            "3   96401    llama-2-13b-chat  mistral-7b-instruct   \n",
            "4  198779           koala-13b   gpt-3.5-turbo-0314   \n",
            "\n",
            "                                              prompt  \\\n",
            "0  [\"Is it morally right to try to have a certain...   \n",
            "1  [\"What is the difference between marriage lice...   \n",
            "2  [\"explain function calling. how would you call...   \n",
            "3  [\"How can I create a test set for a very rare ...   \n",
            "4  [\"What is the best way to travel from Tel-Aviv...   \n",
            "\n",
            "                                          response_a  \\\n",
            "0  [\"The question of whether it is morally right ...   \n",
            "1  [\"A marriage license is a legal document that ...   \n",
            "2  [\"Function calling is the process of invoking ...   \n",
            "3  [\"Creating a test set for a very rare category...   \n",
            "4  [\"The best way to travel from Tel Aviv to Jeru...   \n",
            "\n",
            "                                          response_b  winner_model_a  \\\n",
            "0  [\"As an AI, I don't have personal beliefs or o...               1   \n",
            "1  [\"A marriage license and a marriage certificat...               0   \n",
            "2  [\"Function calling is the process of invoking ...               0   \n",
            "3  [\"When building a classifier for a very rare c...               1   \n",
            "4  [\"The best way to travel from Tel-Aviv to Jeru...               0   \n",
            "\n",
            "   winner_model_b  winner_tie  \n",
            "0               0           0  \n",
            "1               1           0  \n",
            "2               0           1  \n",
            "3               0           0  \n",
            "4               1           0  \n",
            "\n",
            "Test data head:\n",
            "        id                                             prompt  \\\n",
            "0   136060  [\"I have three oranges today, I ate an orange ...   \n",
            "1   211333  [\"You are a mediator in a heated political deb...   \n",
            "2  1233961  [\"How to initialize the classification head wh...   \n",
            "\n",
            "                                          response_a  \\\n",
            "0                    [\"You have two oranges today.\"]   \n",
            "1  [\"Thank you for sharing the details of the sit...   \n",
            "2  [\"When you want to initialize the classificati...   \n",
            "\n",
            "                                          response_b  \n",
            "0  [\"You still have three oranges. Eating an oran...  \n",
            "1  [\"Mr Reddy and Ms Blue both have valid points ...  \n",
            "2  [\"To initialize the classification head when p...  \n",
            "\n",
            "Sample submission head:\n",
            "        id  winner_model_a  winner_model_b  winner_tie\n",
            "0   136060        0.333333        0.333333    0.333333\n",
            "1   211333        0.333333        0.333333    0.333333\n",
            "2  1233961        0.333333        0.333333    0.333333\n"
          ]
        }
      ]
    },
    {
      "cell_type": "code",
      "source": [
        "# @title Step 2: Data Preprocessing and Feature Engineering\n",
        "\n",
        "# Text Cleaning Function\n",
        "def clean_text(text):\n",
        "    text = text.lower() # Convert to lowercase\n",
        "    text = re.sub(f'[{re.escape(string.punctuation)}]', '', text) # Remove punctuation\n",
        "    # Optional: Remove stopwords\n",
        "    # stop_words = set(stopwords.words('english'))\n",
        "    # text = ' '.join([word for word in text.split() if word not in stop_words])\n",
        "    text = re.sub(r'\\s+', ' ', text).strip() # Remove extra whitespace\n",
        "    return text\n",
        "\n",
        "# Apply cleaning to prompt and responses\n",
        "train_df['prompt_cleaned'] = train_df['prompt'].apply(clean_text)\n",
        "train_df['response_a_cleaned'] = train_df['response_a'].apply(clean_text)\n",
        "train_df['response_b_cleaned'] = train_df['response_b'].apply(clean_text)\n",
        "\n",
        "test_df['prompt_cleaned'] = test_df['prompt'].apply(clean_text)\n",
        "test_df['response_a_cleaned'] = test_df['response_a'].apply(clean_text)\n",
        "test_df['response_b_cleaned'] = test_df['response_b'].apply(clean_text)\n",
        "\n",
        "print(\"\\nText cleaning applied.\")\n",
        "print(\"\\nTrain data with cleaned text:\")\n",
        "print(train_df[['prompt_cleaned', 'response_a_cleaned', 'response_b_cleaned']].head())\n",
        "\n",
        "# Tokenization and Padding\n",
        "max_words = 20000 # Maximum number of words to keep based on word frequency\n",
        "maxlen = 256 # Maximum length of sequences\n",
        "\n",
        "tokenizer = Tokenizer(num_words=max_words, oov_token=\"<OOV>\")\n",
        "\n",
        "# Fit tokenizer on combined text from train and test for better vocabulary coverage\n",
        "all_text = pd.concat([\n",
        "    train_df['prompt_cleaned'], train_df['response_a_cleaned'], train_df['response_b_cleaned'],\n",
        "    test_df['prompt_cleaned'], test_df['response_a_cleaned'], test_df['response_b_cleaned']\n",
        "])\n",
        "tokenizer.fit_on_texts(all_text)\n",
        "\n",
        "# Convert text to sequences\n",
        "train_sequences_prompt = tokenizer.texts_to_sequences(train_df['prompt_cleaned'])\n",
        "train_sequences_response_a = tokenizer.texts_to_sequences(train_df['response_a_cleaned'])\n",
        "train_sequences_response_b = tokenizer.texts_to_sequences(train_df['response_b_cleaned'])\n",
        "\n",
        "test_sequences_prompt = tokenizer.texts_to_sequences(test_df['prompt_cleaned'])\n",
        "test_sequences_response_a = tokenizer.texts_to_sequences(test_df['response_a_cleaned'])\n",
        "test_sequences_response_b = tokenizer.texts_to_sequences(test_df['response_b_cleaned'])\n",
        "\n",
        "# Pad sequences\n",
        "train_padded_prompt = pad_sequences(train_sequences_prompt, maxlen=maxlen, padding='post', truncating='post')\n",
        "train_padded_response_a = pad_sequences(train_sequences_response_a, maxlen=maxlen, padding='post', truncating='post')\n",
        "train_padded_response_b = pad_sequences(train_sequences_response_b, maxlen=maxlen, padding='post', truncating='post')\n",
        "\n",
        "test_padded_prompt = pad_sequences(test_sequences_prompt, maxlen=maxlen, padding='post', truncating='post')\n",
        "test_padded_response_a = pad_sequences(test_sequences_response_a, maxlen=maxlen, padding='post', truncating='post')\n",
        "test_padded_response_b = pad_sequences(test_sequences_response_b, maxlen=maxlen, padding='post', truncating='post')\n",
        "\n",
        "print(\"\\nText tokenization and padding applied.\")\n",
        "print(\"\\nExample padded sequence (prompt):\")\n",
        "print(train_padded_prompt[0])\n",
        "\n",
        "# Prepare Target Variable\n",
        "# We need to represent the winner as a one-hot encoded vector\n",
        "# [1, 0, 0] for winner_model_a, [0, 1, 0] for winner_model_b, [0, 0, 1] for winner_tie\n",
        "y_train = train_df[['winner_model_a', 'winner_model_b', 'winner_tie']].values\n",
        "\n",
        "print(\"\\nTarget variable prepared:\")\n",
        "print(y_train[:5])"
      ],
      "metadata": {
        "id": "U_jA1rJi5eLc",
        "colab": {
          "base_uri": "https://localhost:8080/"
        },
        "outputId": "370bfa94-1362-44c5-8a8b-9927dcb1bf5b"
      },
      "execution_count": 9,
      "outputs": [
        {
          "output_type": "stream",
          "name": "stdout",
          "text": [
            "\n",
            "Text cleaning applied.\n",
            "\n",
            "Train data with cleaned text:\n",
            "                                      prompt_cleaned  \\\n",
            "0  is it morally right to try to have a certain p...   \n",
            "1  what is the difference between marriage licens...   \n",
            "2  explain function calling how would you call a ...   \n",
            "3  how can i create a test set for a very rare ca...   \n",
            "4  what is the best way to travel from telaviv to...   \n",
            "\n",
            "                                  response_a_cleaned  \\\n",
            "0  the question of whether it is morally right to...   \n",
            "1  a marriage license is a legal document that al...   \n",
            "2  function calling is the process of invoking or...   \n",
            "3  creating a test set for a very rare category c...   \n",
            "4  the best way to travel from tel aviv to jerusa...   \n",
            "\n",
            "                                  response_b_cleaned  \n",
            "0  as an ai i dont have personal beliefs or opini...  \n",
            "1  a marriage license and a marriage certificate ...  \n",
            "2  function calling is the process of invoking a ...  \n",
            "3  when building a classifier for a very rare cat...  \n",
            "4  the best way to travel from telaviv to jerusal...  \n",
            "\n",
            "Text tokenization and padding applied.\n",
            "\n",
            "Example padded sequence (prompt):\n",
            "[   8   16 6455  246    4  297    4   23    5  300 2178    6 7774   18\n",
            "    1    1  158 7911 5504   18    5 2900 3515    3  260   76  959  199\n",
            "    0    0    0    0    0    0    0    0    0    0    0    0    0    0\n",
            "    0    0    0    0    0    0    0    0    0    0    0    0    0    0\n",
            "    0    0    0    0    0    0    0    0    0    0    0    0    0    0\n",
            "    0    0    0    0    0    0    0    0    0    0    0    0    0    0\n",
            "    0    0    0    0    0    0    0    0    0    0    0    0    0    0\n",
            "    0    0    0    0    0    0    0    0    0    0    0    0    0    0\n",
            "    0    0    0    0    0    0    0    0    0    0    0    0    0    0\n",
            "    0    0    0    0    0    0    0    0    0    0    0    0    0    0\n",
            "    0    0    0    0    0    0    0    0    0    0    0    0    0    0\n",
            "    0    0    0    0    0    0    0    0    0    0    0    0    0    0\n",
            "    0    0    0    0    0    0    0    0    0    0    0    0    0    0\n",
            "    0    0    0    0    0    0    0    0    0    0    0    0    0    0\n",
            "    0    0    0    0    0    0    0    0    0    0    0    0    0    0\n",
            "    0    0    0    0    0    0    0    0    0    0    0    0    0    0\n",
            "    0    0    0    0    0    0    0    0    0    0    0    0    0    0\n",
            "    0    0    0    0    0    0    0    0    0    0    0    0    0    0\n",
            "    0    0    0    0]\n",
            "\n",
            "Target variable prepared:\n",
            "[[1 0 0]\n",
            " [0 1 0]\n",
            " [0 0 1]\n",
            " [1 0 0]\n",
            " [0 1 0]]\n"
          ]
        }
      ]
    },
    {
      "cell_type": "code",
      "source": [
        "# @title Step 3: Model Definition\n",
        "\n",
        "# Define the model architecture\n",
        "embedding_dim = 64 # Dimension of the word embeddings\n",
        "\n",
        "# Input layers\n",
        "prompt_input = Input(shape=(maxlen,), name='prompt_input')\n",
        "response_a_input = Input(shape=(maxlen,), name='response_a_input')\n",
        "response_b_input = Input(shape=(maxlen,), name='response_b_input')\n",
        "\n",
        "# Embedding layer (shared for all inputs)\n",
        "embedding_layer = Embedding(input_dim=max_words, output_dim=embedding_dim)\n",
        "\n",
        "# Embed the inputs\n",
        "prompt_embedding = embedding_layer(prompt_input)\n",
        "response_a_embedding = embedding_layer(response_a_input)\n",
        "response_b_embedding = embedding_layer(response_b_input)\n",
        "\n",
        "# Global Average Pooling to reduce dimensionality\n",
        "prompt_pooled = GlobalAveragePooling1D()(prompt_embedding)\n",
        "response_a_pooled = GlobalAveragePooling1D()(response_a_embedding)\n",
        "response_b_pooled = GlobalAveragePooling1D()(response_b_embedding)\n",
        "\n",
        "# Concatenate the pooled embeddings and features comparing responses\n",
        "# We can add simple features here, like length difference, before concatenating\n",
        "# For simplicity, we'll just concatenate the pooled embeddings for now.\n",
        "# To add more features, calculate them here and concatenate with the pooled embeddings.\n",
        "concatenated = concatenate([prompt_pooled, response_a_pooled, response_b_pooled])\n",
        "\n",
        "# Dense layers for classification\n",
        "dense_1 = Dense(128, activation='relu')(concatenated)\n",
        "dense_2 = Dense(64, activation='relu')(dense_1)\n",
        "\n",
        "# Output layer: 3 units for the three outcomes (A wins, B wins, Tie)\n",
        "# Softmax activation to get probabilities that sum to 1\n",
        "output_layer = Dense(3, activation='softmax', name='output_layer')(dense_2)\n",
        "\n",
        "# Define the model\n",
        "model = Model(inputs=[prompt_input, response_a_input, response_b_input], outputs=output_layer)\n",
        "\n",
        "# Compile the model\n",
        "# Use categorical_crossentropy as the loss function for multi-class classification\n",
        "# Use Adam optimizer\n",
        "model.compile(optimizer='adam', loss='categorical_crossentropy', metrics=['accuracy'])\n",
        "\n",
        "model.summary()"
      ],
      "metadata": {
        "colab": {
          "base_uri": "https://localhost:8080/",
          "height": 697
        },
        "id": "QlMz5L7ZW1Ti",
        "outputId": "293dc035-a662-4ea2-aef7-d75dfc66016a"
      },
      "execution_count": 10,
      "outputs": [
        {
          "output_type": "display_data",
          "data": {
            "text/plain": [
              "\u001b[1mModel: \"functional\"\u001b[0m\n"
            ],
            "text/html": [
              "<pre style=\"white-space:pre;overflow-x:auto;line-height:normal;font-family:Menlo,'DejaVu Sans Mono',consolas,'Courier New',monospace\"><span style=\"font-weight: bold\">Model: \"functional\"</span>\n",
              "</pre>\n"
            ]
          },
          "metadata": {}
        },
        {
          "output_type": "display_data",
          "data": {
            "text/plain": [
              "┏━━━━━━━━━━━━━━━━━━━━━┳━━━━━━━━━━━━━━━━━━━┳━━━━━━━━━━━━┳━━━━━━━━━━━━━━━━━━━┓\n",
              "┃\u001b[1m \u001b[0m\u001b[1mLayer (type)       \u001b[0m\u001b[1m \u001b[0m┃\u001b[1m \u001b[0m\u001b[1mOutput Shape     \u001b[0m\u001b[1m \u001b[0m┃\u001b[1m \u001b[0m\u001b[1m   Param #\u001b[0m\u001b[1m \u001b[0m┃\u001b[1m \u001b[0m\u001b[1mConnected to     \u001b[0m\u001b[1m \u001b[0m┃\n",
              "┡━━━━━━━━━━━━━━━━━━━━━╇━━━━━━━━━━━━━━━━━━━╇━━━━━━━━━━━━╇━━━━━━━━━━━━━━━━━━━┩\n",
              "│ prompt_input        │ (\u001b[38;5;45mNone\u001b[0m, \u001b[38;5;34m256\u001b[0m)       │          \u001b[38;5;34m0\u001b[0m │ -                 │\n",
              "│ (\u001b[38;5;33mInputLayer\u001b[0m)        │                   │            │                   │\n",
              "├─────────────────────┼───────────────────┼────────────┼───────────────────┤\n",
              "│ response_a_input    │ (\u001b[38;5;45mNone\u001b[0m, \u001b[38;5;34m256\u001b[0m)       │          \u001b[38;5;34m0\u001b[0m │ -                 │\n",
              "│ (\u001b[38;5;33mInputLayer\u001b[0m)        │                   │            │                   │\n",
              "├─────────────────────┼───────────────────┼────────────┼───────────────────┤\n",
              "│ response_b_input    │ (\u001b[38;5;45mNone\u001b[0m, \u001b[38;5;34m256\u001b[0m)       │          \u001b[38;5;34m0\u001b[0m │ -                 │\n",
              "│ (\u001b[38;5;33mInputLayer\u001b[0m)        │                   │            │                   │\n",
              "├─────────────────────┼───────────────────┼────────────┼───────────────────┤\n",
              "│ embedding           │ (\u001b[38;5;45mNone\u001b[0m, \u001b[38;5;34m256\u001b[0m, \u001b[38;5;34m64\u001b[0m)   │  \u001b[38;5;34m1,280,000\u001b[0m │ prompt_input[\u001b[38;5;34m0\u001b[0m][\u001b[38;5;34m…\u001b[0m │\n",
              "│ (\u001b[38;5;33mEmbedding\u001b[0m)         │                   │            │ response_a_input… │\n",
              "│                     │                   │            │ response_b_input… │\n",
              "├─────────────────────┼───────────────────┼────────────┼───────────────────┤\n",
              "│ global_average_poo… │ (\u001b[38;5;45mNone\u001b[0m, \u001b[38;5;34m64\u001b[0m)        │          \u001b[38;5;34m0\u001b[0m │ embedding[\u001b[38;5;34m0\u001b[0m][\u001b[38;5;34m0\u001b[0m]   │\n",
              "│ (\u001b[38;5;33mGlobalAveragePool…\u001b[0m │                   │            │                   │\n",
              "├─────────────────────┼───────────────────┼────────────┼───────────────────┤\n",
              "│ global_average_poo… │ (\u001b[38;5;45mNone\u001b[0m, \u001b[38;5;34m64\u001b[0m)        │          \u001b[38;5;34m0\u001b[0m │ embedding[\u001b[38;5;34m1\u001b[0m][\u001b[38;5;34m0\u001b[0m]   │\n",
              "│ (\u001b[38;5;33mGlobalAveragePool…\u001b[0m │                   │            │                   │\n",
              "├─────────────────────┼───────────────────┼────────────┼───────────────────┤\n",
              "│ global_average_poo… │ (\u001b[38;5;45mNone\u001b[0m, \u001b[38;5;34m64\u001b[0m)        │          \u001b[38;5;34m0\u001b[0m │ embedding[\u001b[38;5;34m2\u001b[0m][\u001b[38;5;34m0\u001b[0m]   │\n",
              "│ (\u001b[38;5;33mGlobalAveragePool…\u001b[0m │                   │            │                   │\n",
              "├─────────────────────┼───────────────────┼────────────┼───────────────────┤\n",
              "│ concatenate         │ (\u001b[38;5;45mNone\u001b[0m, \u001b[38;5;34m192\u001b[0m)       │          \u001b[38;5;34m0\u001b[0m │ global_average_p… │\n",
              "│ (\u001b[38;5;33mConcatenate\u001b[0m)       │                   │            │ global_average_p… │\n",
              "│                     │                   │            │ global_average_p… │\n",
              "├─────────────────────┼───────────────────┼────────────┼───────────────────┤\n",
              "│ dense (\u001b[38;5;33mDense\u001b[0m)       │ (\u001b[38;5;45mNone\u001b[0m, \u001b[38;5;34m128\u001b[0m)       │     \u001b[38;5;34m24,704\u001b[0m │ concatenate[\u001b[38;5;34m0\u001b[0m][\u001b[38;5;34m0\u001b[0m] │\n",
              "├─────────────────────┼───────────────────┼────────────┼───────────────────┤\n",
              "│ dense_1 (\u001b[38;5;33mDense\u001b[0m)     │ (\u001b[38;5;45mNone\u001b[0m, \u001b[38;5;34m64\u001b[0m)        │      \u001b[38;5;34m8,256\u001b[0m │ dense[\u001b[38;5;34m0\u001b[0m][\u001b[38;5;34m0\u001b[0m]       │\n",
              "├─────────────────────┼───────────────────┼────────────┼───────────────────┤\n",
              "│ output_layer        │ (\u001b[38;5;45mNone\u001b[0m, \u001b[38;5;34m3\u001b[0m)         │        \u001b[38;5;34m195\u001b[0m │ dense_1[\u001b[38;5;34m0\u001b[0m][\u001b[38;5;34m0\u001b[0m]     │\n",
              "│ (\u001b[38;5;33mDense\u001b[0m)             │                   │            │                   │\n",
              "└─────────────────────┴───────────────────┴────────────┴───────────────────┘\n"
            ],
            "text/html": [
              "<pre style=\"white-space:pre;overflow-x:auto;line-height:normal;font-family:Menlo,'DejaVu Sans Mono',consolas,'Courier New',monospace\">┏━━━━━━━━━━━━━━━━━━━━━┳━━━━━━━━━━━━━━━━━━━┳━━━━━━━━━━━━┳━━━━━━━━━━━━━━━━━━━┓\n",
              "┃<span style=\"font-weight: bold\"> Layer (type)        </span>┃<span style=\"font-weight: bold\"> Output Shape      </span>┃<span style=\"font-weight: bold\">    Param # </span>┃<span style=\"font-weight: bold\"> Connected to      </span>┃\n",
              "┡━━━━━━━━━━━━━━━━━━━━━╇━━━━━━━━━━━━━━━━━━━╇━━━━━━━━━━━━╇━━━━━━━━━━━━━━━━━━━┩\n",
              "│ prompt_input        │ (<span style=\"color: #00d7ff; text-decoration-color: #00d7ff\">None</span>, <span style=\"color: #00af00; text-decoration-color: #00af00\">256</span>)       │          <span style=\"color: #00af00; text-decoration-color: #00af00\">0</span> │ -                 │\n",
              "│ (<span style=\"color: #0087ff; text-decoration-color: #0087ff\">InputLayer</span>)        │                   │            │                   │\n",
              "├─────────────────────┼───────────────────┼────────────┼───────────────────┤\n",
              "│ response_a_input    │ (<span style=\"color: #00d7ff; text-decoration-color: #00d7ff\">None</span>, <span style=\"color: #00af00; text-decoration-color: #00af00\">256</span>)       │          <span style=\"color: #00af00; text-decoration-color: #00af00\">0</span> │ -                 │\n",
              "│ (<span style=\"color: #0087ff; text-decoration-color: #0087ff\">InputLayer</span>)        │                   │            │                   │\n",
              "├─────────────────────┼───────────────────┼────────────┼───────────────────┤\n",
              "│ response_b_input    │ (<span style=\"color: #00d7ff; text-decoration-color: #00d7ff\">None</span>, <span style=\"color: #00af00; text-decoration-color: #00af00\">256</span>)       │          <span style=\"color: #00af00; text-decoration-color: #00af00\">0</span> │ -                 │\n",
              "│ (<span style=\"color: #0087ff; text-decoration-color: #0087ff\">InputLayer</span>)        │                   │            │                   │\n",
              "├─────────────────────┼───────────────────┼────────────┼───────────────────┤\n",
              "│ embedding           │ (<span style=\"color: #00d7ff; text-decoration-color: #00d7ff\">None</span>, <span style=\"color: #00af00; text-decoration-color: #00af00\">256</span>, <span style=\"color: #00af00; text-decoration-color: #00af00\">64</span>)   │  <span style=\"color: #00af00; text-decoration-color: #00af00\">1,280,000</span> │ prompt_input[<span style=\"color: #00af00; text-decoration-color: #00af00\">0</span>][<span style=\"color: #00af00; text-decoration-color: #00af00\">…</span> │\n",
              "│ (<span style=\"color: #0087ff; text-decoration-color: #0087ff\">Embedding</span>)         │                   │            │ response_a_input… │\n",
              "│                     │                   │            │ response_b_input… │\n",
              "├─────────────────────┼───────────────────┼────────────┼───────────────────┤\n",
              "│ global_average_poo… │ (<span style=\"color: #00d7ff; text-decoration-color: #00d7ff\">None</span>, <span style=\"color: #00af00; text-decoration-color: #00af00\">64</span>)        │          <span style=\"color: #00af00; text-decoration-color: #00af00\">0</span> │ embedding[<span style=\"color: #00af00; text-decoration-color: #00af00\">0</span>][<span style=\"color: #00af00; text-decoration-color: #00af00\">0</span>]   │\n",
              "│ (<span style=\"color: #0087ff; text-decoration-color: #0087ff\">GlobalAveragePool…</span> │                   │            │                   │\n",
              "├─────────────────────┼───────────────────┼────────────┼───────────────────┤\n",
              "│ global_average_poo… │ (<span style=\"color: #00d7ff; text-decoration-color: #00d7ff\">None</span>, <span style=\"color: #00af00; text-decoration-color: #00af00\">64</span>)        │          <span style=\"color: #00af00; text-decoration-color: #00af00\">0</span> │ embedding[<span style=\"color: #00af00; text-decoration-color: #00af00\">1</span>][<span style=\"color: #00af00; text-decoration-color: #00af00\">0</span>]   │\n",
              "│ (<span style=\"color: #0087ff; text-decoration-color: #0087ff\">GlobalAveragePool…</span> │                   │            │                   │\n",
              "├─────────────────────┼───────────────────┼────────────┼───────────────────┤\n",
              "│ global_average_poo… │ (<span style=\"color: #00d7ff; text-decoration-color: #00d7ff\">None</span>, <span style=\"color: #00af00; text-decoration-color: #00af00\">64</span>)        │          <span style=\"color: #00af00; text-decoration-color: #00af00\">0</span> │ embedding[<span style=\"color: #00af00; text-decoration-color: #00af00\">2</span>][<span style=\"color: #00af00; text-decoration-color: #00af00\">0</span>]   │\n",
              "│ (<span style=\"color: #0087ff; text-decoration-color: #0087ff\">GlobalAveragePool…</span> │                   │            │                   │\n",
              "├─────────────────────┼───────────────────┼────────────┼───────────────────┤\n",
              "│ concatenate         │ (<span style=\"color: #00d7ff; text-decoration-color: #00d7ff\">None</span>, <span style=\"color: #00af00; text-decoration-color: #00af00\">192</span>)       │          <span style=\"color: #00af00; text-decoration-color: #00af00\">0</span> │ global_average_p… │\n",
              "│ (<span style=\"color: #0087ff; text-decoration-color: #0087ff\">Concatenate</span>)       │                   │            │ global_average_p… │\n",
              "│                     │                   │            │ global_average_p… │\n",
              "├─────────────────────┼───────────────────┼────────────┼───────────────────┤\n",
              "│ dense (<span style=\"color: #0087ff; text-decoration-color: #0087ff\">Dense</span>)       │ (<span style=\"color: #00d7ff; text-decoration-color: #00d7ff\">None</span>, <span style=\"color: #00af00; text-decoration-color: #00af00\">128</span>)       │     <span style=\"color: #00af00; text-decoration-color: #00af00\">24,704</span> │ concatenate[<span style=\"color: #00af00; text-decoration-color: #00af00\">0</span>][<span style=\"color: #00af00; text-decoration-color: #00af00\">0</span>] │\n",
              "├─────────────────────┼───────────────────┼────────────┼───────────────────┤\n",
              "│ dense_1 (<span style=\"color: #0087ff; text-decoration-color: #0087ff\">Dense</span>)     │ (<span style=\"color: #00d7ff; text-decoration-color: #00d7ff\">None</span>, <span style=\"color: #00af00; text-decoration-color: #00af00\">64</span>)        │      <span style=\"color: #00af00; text-decoration-color: #00af00\">8,256</span> │ dense[<span style=\"color: #00af00; text-decoration-color: #00af00\">0</span>][<span style=\"color: #00af00; text-decoration-color: #00af00\">0</span>]       │\n",
              "├─────────────────────┼───────────────────┼────────────┼───────────────────┤\n",
              "│ output_layer        │ (<span style=\"color: #00d7ff; text-decoration-color: #00d7ff\">None</span>, <span style=\"color: #00af00; text-decoration-color: #00af00\">3</span>)         │        <span style=\"color: #00af00; text-decoration-color: #00af00\">195</span> │ dense_1[<span style=\"color: #00af00; text-decoration-color: #00af00\">0</span>][<span style=\"color: #00af00; text-decoration-color: #00af00\">0</span>]     │\n",
              "│ (<span style=\"color: #0087ff; text-decoration-color: #0087ff\">Dense</span>)             │                   │            │                   │\n",
              "└─────────────────────┴───────────────────┴────────────┴───────────────────┘\n",
              "</pre>\n"
            ]
          },
          "metadata": {}
        },
        {
          "output_type": "display_data",
          "data": {
            "text/plain": [
              "\u001b[1m Total params: \u001b[0m\u001b[38;5;34m1,313,155\u001b[0m (5.01 MB)\n"
            ],
            "text/html": [
              "<pre style=\"white-space:pre;overflow-x:auto;line-height:normal;font-family:Menlo,'DejaVu Sans Mono',consolas,'Courier New',monospace\"><span style=\"font-weight: bold\"> Total params: </span><span style=\"color: #00af00; text-decoration-color: #00af00\">1,313,155</span> (5.01 MB)\n",
              "</pre>\n"
            ]
          },
          "metadata": {}
        },
        {
          "output_type": "display_data",
          "data": {
            "text/plain": [
              "\u001b[1m Trainable params: \u001b[0m\u001b[38;5;34m1,313,155\u001b[0m (5.01 MB)\n"
            ],
            "text/html": [
              "<pre style=\"white-space:pre;overflow-x:auto;line-height:normal;font-family:Menlo,'DejaVu Sans Mono',consolas,'Courier New',monospace\"><span style=\"font-weight: bold\"> Trainable params: </span><span style=\"color: #00af00; text-decoration-color: #00af00\">1,313,155</span> (5.01 MB)\n",
              "</pre>\n"
            ]
          },
          "metadata": {}
        },
        {
          "output_type": "display_data",
          "data": {
            "text/plain": [
              "\u001b[1m Non-trainable params: \u001b[0m\u001b[38;5;34m0\u001b[0m (0.00 B)\n"
            ],
            "text/html": [
              "<pre style=\"white-space:pre;overflow-x:auto;line-height:normal;font-family:Menlo,'DejaVu Sans Mono',consolas,'Courier New',monospace\"><span style=\"font-weight: bold\"> Non-trainable params: </span><span style=\"color: #00af00; text-decoration-color: #00af00\">0</span> (0.00 B)\n",
              "</pre>\n"
            ]
          },
          "metadata": {}
        }
      ]
    },
    {
      "cell_type": "code",
      "source": [
        "# @title Step 4: Model Training\n",
        "\n",
        "# Prepare data for model input\n",
        "X_train = {\n",
        "    'prompt_input': train_padded_prompt,\n",
        "    'response_a_input': train_padded_response_a,\n",
        "    'response_b_input': train_padded_response_b\n",
        "}\n",
        "\n",
        "# Split training data for validation using indices\n",
        "from sklearn.model_selection import train_test_split\n",
        "\n",
        "train_indices, val_indices = train_test_split(\n",
        "    np.arange(train_df.shape[0]),\n",
        "    test_size=0.2,\n",
        "    random_state=42,\n",
        "    stratify=y_train\n",
        ")\n",
        "\n",
        "X_train_split = {\n",
        "    'prompt_input': train_padded_prompt[train_indices],\n",
        "    'response_a_input': train_padded_response_a[train_indices],\n",
        "    'response_b_input': train_padded_response_b[train_indices]\n",
        "}\n",
        "\n",
        "X_val_split = {\n",
        "    'prompt_input': train_padded_prompt[val_indices],\n",
        "    'response_a_input': train_padded_response_a[val_indices],\n",
        "    'response_b_input': train_padded_response_b[val_indices]\n",
        "}\n",
        "\n",
        "y_train_split = y_train[train_indices]\n",
        "y_val_split = y_train[val_indices]\n",
        "\n",
        "\n",
        "print(\"\\nTraining and validation data split.\")\n",
        "\n",
        "# Train the model\n",
        "epochs = 5 # Number of training epochs\n",
        "batch_size = 32 # Size of the mini-batches\n",
        "\n",
        "history = model.fit(\n",
        "    X_train_split,\n",
        "    y_train_split,\n",
        "    epochs=epochs,\n",
        "    batch_size=batch_size,\n",
        "    validation_data=(X_val_split, y_val_split)\n",
        ")\n",
        "\n",
        "print(\"\\nModel training finished.\")"
      ],
      "metadata": {
        "colab": {
          "base_uri": "https://localhost:8080/"
        },
        "id": "ah0o6bDPXJRg",
        "outputId": "1784e7f3-a41a-41b9-b2ef-c66ecd2de406"
      },
      "execution_count": 19,
      "outputs": [
        {
          "output_type": "stream",
          "name": "stdout",
          "text": [
            "\n",
            "Training and validation data split.\n",
            "Epoch 1/5\n",
            "\u001b[1m1437/1437\u001b[0m \u001b[32m━━━━━━━━━━━━━━━━━━━━\u001b[0m\u001b[37m\u001b[0m \u001b[1m6s\u001b[0m 4ms/step - accuracy: 0.9894 - loss: 0.0284 - val_accuracy: 0.4021 - val_loss: 7.7044\n",
            "Epoch 2/5\n",
            "\u001b[1m1437/1437\u001b[0m \u001b[32m━━━━━━━━━━━━━━━━━━━━\u001b[0m\u001b[37m\u001b[0m \u001b[1m6s\u001b[0m 4ms/step - accuracy: 0.9925 - loss: 0.0206 - val_accuracy: 0.4023 - val_loss: 8.3774\n",
            "Epoch 3/5\n",
            "\u001b[1m1437/1437\u001b[0m \u001b[32m━━━━━━━━━━━━━━━━━━━━\u001b[0m\u001b[37m\u001b[0m \u001b[1m10s\u001b[0m 4ms/step - accuracy: 0.9903 - loss: 0.0267 - val_accuracy: 0.4070 - val_loss: 8.0153\n",
            "Epoch 4/5\n",
            "\u001b[1m1437/1437\u001b[0m \u001b[32m━━━━━━━━━━━━━━━━━━━━\u001b[0m\u001b[37m\u001b[0m \u001b[1m11s\u001b[0m 5ms/step - accuracy: 0.9919 - loss: 0.0228 - val_accuracy: 0.4126 - val_loss: 8.3012\n",
            "Epoch 5/5\n",
            "\u001b[1m1437/1437\u001b[0m \u001b[32m━━━━━━━━━━━━━━━━━━━━\u001b[0m\u001b[37m\u001b[0m \u001b[1m5s\u001b[0m 4ms/step - accuracy: 0.9939 - loss: 0.0183 - val_accuracy: 0.4131 - val_loss: 8.4422\n",
            "\n",
            "Model training finished.\n"
          ]
        }
      ]
    },
    {
      "cell_type": "code",
      "source": [
        "# @title Step 5: Model Evaluation\n",
        "\n",
        "# Evaluate the model on the validation set\n",
        "print(\"\\nEvaluating model on validation data...\")\n",
        "loss, accuracy = model.evaluate(X_val_split, y_val_split, verbose=0)\n",
        "\n",
        "print(f\"Validation Loss: {loss:.4f}\")\n",
        "print(f\"Validation Accuracy: {accuracy:.4f}\")\n",
        "\n",
        "# Note: Log Loss is the primary competition metric.\n",
        "# The reported validation loss from model.evaluate is the categorical_crossentropy, which is equivalent to Log Loss for this task."
      ],
      "metadata": {
        "colab": {
          "base_uri": "https://localhost:8080/"
        },
        "id": "8orZsIF9ZdPS",
        "outputId": "a37cba4a-c504-48f9-f7e1-3b9e534433d9"
      },
      "execution_count": 20,
      "outputs": [
        {
          "output_type": "stream",
          "name": "stdout",
          "text": [
            "\n",
            "Evaluating model on validation data...\n",
            "Validation Loss: 8.4422\n",
            "Validation Accuracy: 0.4131\n"
          ]
        }
      ]
    },
    {
      "cell_type": "code",
      "source": [
        "# @title Step 6: Make Predictions on Test Data\n",
        "\n",
        "# Prepare test data for model input\n",
        "X_test = {\n",
        "    'prompt_input': test_padded_prompt,\n",
        "    'response_a_input': test_padded_response_a,\n",
        "    'response_b_input': test_padded_response_b\n",
        "}\n",
        "\n",
        "# Make predictions on the test data\n",
        "print(\"\\nMaking predictions on test data...\")\n",
        "test_predictions = model.predict(X_test)\n",
        "\n",
        "print(\"\\nTest predictions shape:\", test_predictions.shape)\n",
        "print(\"\\nExample test predictions (probabilities for [A wins, B wins, Tie]):\")\n",
        "print(test_predictions[:5])"
      ],
      "metadata": {
        "colab": {
          "base_uri": "https://localhost:8080/"
        },
        "id": "RXEELBm7aHcS",
        "outputId": "5dce00e5-e930-42c0-8c56-702aca4bd42a"
      },
      "execution_count": 21,
      "outputs": [
        {
          "output_type": "stream",
          "name": "stdout",
          "text": [
            "\n",
            "Making predictions on test data...\n",
            "\u001b[1m1/1\u001b[0m \u001b[32m━━━━━━━━━━━━━━━━━━━━\u001b[0m\u001b[37m\u001b[0m \u001b[1m1s\u001b[0m 525ms/step\n",
            "\n",
            "Test predictions shape: (3, 3)\n",
            "\n",
            "Example test predictions (probabilities for [A wins, B wins, Tie]):\n",
            "[[3.9287079e-03 4.1102481e-01 5.8504653e-01]\n",
            " [1.3616554e-05 8.1953424e-01 1.8045226e-01]\n",
            " [3.0776392e-11 1.0000000e+00 1.4940375e-14]]\n"
          ]
        }
      ]
    },
    {
      "cell_type": "markdown",
      "metadata": {
        "id": "148c20b4"
      },
      "source": [
        "# Task\n",
        "Explain the `KeyError: \"['winner_model_tie'] not in index\"` in the provided Python code, fix the error, and incorporate the fix into the existing code. Then, based on the provided plan, fine-tune the model to achieve a validation log loss of less than 1 and improve validation accuracy. The plan involves implementing advanced text representation using pre-trained language models, adopting a more sophisticated model architecture, incorporating feature engineering, refining model training and evaluation with stratified K-fold cross-validation and log loss, performing targeted hyperparameter tuning, exploring handling ties, considering ensemble methods, and iteratively addressing bias."
      ]
    },
    {
      "cell_type": "markdown",
      "metadata": {
        "id": "92518334"
      },
      "source": [
        "## Implement advanced text representation\n",
        "\n",
        "### Subtask:\n",
        "Replace the simple Embedding and GlobalAveragePooling layers with embeddings from a pre-trained language model to capture richer semantic information.\n"
      ]
    },
    {
      "cell_type": "markdown",
      "metadata": {
        "id": "31e982b9"
      },
      "source": [
        "**Reasoning**:\n",
        "Install the `transformers` library to use pre-trained language models.\n",
        "\n"
      ]
    },
    {
      "cell_type": "code",
      "metadata": {
        "id": "62468357"
      },
      "source": [
        "!pip install transformers"
      ],
      "execution_count": null,
      "outputs": []
    }
  ]
}