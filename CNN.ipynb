{
  "cells": [
    {
      "cell_type": "markdown",
      "metadata": {
        "id": "view-in-github",
        "colab_type": "text"
      },
      "source": [
        "<a href=\"https://colab.research.google.com/github/kanyijohn/Deep-Learning-ML-models/blob/main/CNN.ipynb\" target=\"_parent\"><img src=\"https://colab.research.google.com/assets/colab-badge.svg\" alt=\"Open In Colab\"/></a>"
      ]
    },
    {
      "cell_type": "code",
      "execution_count": null,
      "metadata": {
        "id": "FugMduGmZv4f"
      },
      "outputs": [],
      "source": [
        "import tensorflow as tf\n",
        "from tensorflow import keras\n",
        "from keras import layers\n",
        "import numpy as np\n",
        "import matplotlib.pyplot as plt"
      ]
    },
    {
      "cell_type": "code",
      "execution_count": null,
      "metadata": {
        "colab": {
          "base_uri": "https://localhost:8080/"
        },
        "id": "eARUeG-bxOnL",
        "outputId": "8ca5c3dc-3f29-4adc-898f-b939af730849"
      },
      "outputs": [
        {
          "name": "stdout",
          "output_type": "stream",
          "text": [
            "(50000, 32, 32, 3) (50000, 1) (10000, 32, 32, 3) (10000, 1)\n"
          ]
        }
      ],
      "source": [
        "# 1. LOADING AND PREPEOCESSING CIFAR-10 DATASET- It has dataset has 10 classes:\n",
        "['airplane', 'automobile', 'bird', 'cat', 'deer', 'dog', 'frog', 'horse', 'ship', 'truck']\n",
        "(x_train, y_train), (x_test, y_test) = keras.datasets.cifar10.load_data()\n",
        "\n",
        "# Normalize pixel values (0-255) to (0-1) to make training more efficient.\n",
        "x_train, x_test = x_train / 255.0, x_test / 255.0\n",
        "\n",
        "# Check data shape(image no, pixel dimensions and color scheme)\n",
        "print(x_train.shape, y_train.shape, x_test.shape, y_test.shape)"
      ]
    },
    {
      "cell_type": "code",
      "execution_count": null,
      "metadata": {
        "colab": {
          "base_uri": "https://localhost:8080/"
        },
        "id": "VcOGVJbrxcLe",
        "outputId": "8f95a029-d6cb-4b41-e0e7-30c821bee2a4"
      },
      "outputs": [
        {
          "name": "stderr",
          "output_type": "stream",
          "text": [
            "/usr/local/lib/python3.11/dist-packages/keras/src/layers/convolutional/base_conv.py:107: UserWarning: Do not pass an `input_shape`/`input_dim` argument to a layer. When using Sequential models, prefer using an `Input(shape)` object as the first layer in the model instead.\n",
            "  super().__init__(activity_regularizer=activity_regularizer, **kwargs)\n"
          ]
        }
      ],
      "source": [
        "# 2.CREATING THE CNN MODEL USING TENSORFLOW'S KERAS SEQUENTIAL API.\n",
        "\n",
        "model = keras.Sequential([ # A Sequential model (CNN model), to make the layers get stacked one after another.\n",
        "\n",
        "\n",
        "    # Layer 1- Convulational Layer (identifies and extracts the image features)\n",
        "\n",
        "    layers.Conv2D (32, (3, 3), # Adds a convolutional layer with 32 filters, each 3×3 in size.\n",
        "                  activation='relu', # Applies ReLU (Rectified Linear Unit) activation to introduce non-linearity\n",
        "                  input_shape=(32, 32, 3)), # Defines the input image dimensions (32×32 pixels, 3 color channels).\n",
        "\n",
        "\n",
        "    # Layer 2- Max Pooling (Pooling layer-downsamples data features to reduce overfitting and computational costs)\n",
        "\n",
        "    layers.MaxPooling2D((2, 2)), # Performs downsampling using 2×2 max pooling to reduce spatial dimensions by half (32×32 → 16×16).\n",
        "\n",
        "    # Second Convolutional Layer\n",
        "    layers.Conv2D(64, (3, 3), activation='relu'), # 64 filters of size 3×3. Extracts higher-level features from the images.\n",
        "\n",
        "    # Second Max Pooling\n",
        "    layers.MaxPooling2D((2, 2)), # reduces the feature map size (16×16 → 8×8).\n",
        "\n",
        "    # Third Convulational Layer\n",
        "    layers.Conv2D(128, (3, 3), activation='relu'), # A deeper convolutional layer with 128 filters helping the network capture complex patterns in the images.\n",
        "\n",
        "    # Flattening the Output\n",
        "    layers.Flatten(), # Converts the multi-dimensional feature maps into a one-dimensional vector. Needed to connect the output to fully connected layers.\n",
        "\n",
        "\n",
        "    # Layer 3- Fully Connected Dense Layer (connected convulated layers with same number of units as the number of classes and the output activation function such as “softmax” or “sigmoid”)\n",
        "\n",
        "    # A fully connected layer with 128 neurons and Activation = ReLU to introduce non-linearity.\n",
        "    layers.Dense(128, activation='relu'),\n",
        "\n",
        "    # Output Layer- Output layer with 10 neurons, one for each class. Activation = Softmax: Converts outputs into probabilities\n",
        "    layers.Dense(10, activation='softmax')  # 10 classes in CIFAR-10\n",
        "])\n",
        "\n",
        "# 3. COMPILING THE MDOEL\n",
        "model.compile(optimizer='adam', # Optimizer: Adam - Efficient and adaptive optimization algorithm.\n",
        "              loss='sparse_categorical_crossentropy', # Used for multi-class classification when labels are integer values.\n",
        "              metrics=['accuracy']) # Measures the percentage of correctly classified images.\n"
      ]
    },
    {
      "cell_type": "code",
      "execution_count": null,
      "metadata": {
        "colab": {
          "base_uri": "https://localhost:8080/"
        },
        "id": "n1dQYoi4yf88",
        "outputId": "a02cb56b-76ea-4d70-de1e-a65280840b56"
      },
      "outputs": [
        {
          "output_type": "stream",
          "name": "stdout",
          "text": [
            "Epoch 1/10\n",
            "\u001b[1m1563/1563\u001b[0m \u001b[32m━━━━━━━━━━━━━━━━━━━━\u001b[0m\u001b[37m\u001b[0m \u001b[1m56s\u001b[0m 35ms/step - accuracy: 0.3639 - loss: 1.7209 - val_accuracy: 0.5602 - val_loss: 1.2207\n",
            "Epoch 2/10\n",
            "\u001b[1m1563/1563\u001b[0m \u001b[32m━━━━━━━━━━━━━━━━━━━━\u001b[0m\u001b[37m\u001b[0m \u001b[1m81s\u001b[0m 34ms/step - accuracy: 0.5990 - loss: 1.1244 - val_accuracy: 0.6460 - val_loss: 1.0010\n",
            "Epoch 3/10\n",
            "\u001b[1m1563/1563\u001b[0m \u001b[32m━━━━━━━━━━━━━━━━━━━━\u001b[0m\u001b[37m\u001b[0m \u001b[1m54s\u001b[0m 34ms/step - accuracy: 0.6648 - loss: 0.9486 - val_accuracy: 0.6585 - val_loss: 0.9776\n",
            "Epoch 4/10\n",
            "\u001b[1m1563/1563\u001b[0m \u001b[32m━━━━━━━━━━━━━━━━━━━━\u001b[0m\u001b[37m\u001b[0m \u001b[1m83s\u001b[0m 35ms/step - accuracy: 0.7111 - loss: 0.8222 - val_accuracy: 0.6926 - val_loss: 0.8873\n",
            "Epoch 5/10\n",
            "\u001b[1m1563/1563\u001b[0m \u001b[32m━━━━━━━━━━━━━━━━━━━━\u001b[0m\u001b[37m\u001b[0m \u001b[1m54s\u001b[0m 35ms/step - accuracy: 0.7480 - loss: 0.7201 - val_accuracy: 0.6771 - val_loss: 0.9443\n",
            "Epoch 6/10\n",
            "\u001b[1m1563/1563\u001b[0m \u001b[32m━━━━━━━━━━━━━━━━━━━━\u001b[0m\u001b[37m\u001b[0m \u001b[1m53s\u001b[0m 34ms/step - accuracy: 0.7683 - loss: 0.6611 - val_accuracy: 0.7124 - val_loss: 0.8457\n",
            "Epoch 7/10\n",
            "\u001b[1m1563/1563\u001b[0m \u001b[32m━━━━━━━━━━━━━━━━━━━━\u001b[0m\u001b[37m\u001b[0m \u001b[1m54s\u001b[0m 34ms/step - accuracy: 0.7965 - loss: 0.5751 - val_accuracy: 0.6887 - val_loss: 0.9428\n",
            "Epoch 8/10\n",
            "\u001b[1m1563/1563\u001b[0m \u001b[32m━━━━━━━━━━━━━━━━━━━━\u001b[0m\u001b[37m\u001b[0m \u001b[1m52s\u001b[0m 33ms/step - accuracy: 0.8194 - loss: 0.5142 - val_accuracy: 0.7113 - val_loss: 0.8755\n",
            "Epoch 9/10\n",
            "\u001b[1m1563/1563\u001b[0m \u001b[32m━━━━━━━━━━━━━━━━━━━━\u001b[0m\u001b[37m\u001b[0m \u001b[1m84s\u001b[0m 35ms/step - accuracy: 0.8416 - loss: 0.4503 - val_accuracy: 0.7203 - val_loss: 0.9070\n",
            "Epoch 10/10\n",
            "\u001b[1m1563/1563\u001b[0m \u001b[32m━━━━━━━━━━━━━━━━━━━━\u001b[0m\u001b[37m\u001b[0m \u001b[1m84s\u001b[0m 36ms/step - accuracy: 0.8581 - loss: 0.3965 - val_accuracy: 0.7201 - val_loss: 0.9626\n"
          ]
        }
      ],
      "source": [
        "# 4. TRAINING THE MODEL\n",
        "history = model.fit(x_train, y_train, epochs=10, # Trains the model for 10 epochs (iterations over the full dataset).\n",
        "                    validation_data=(x_test, y_test)) # Uses validation data (x_test, y_test) to monitor performance."
      ]
    },
    {
      "cell_type": "code",
      "execution_count": null,
      "metadata": {
        "colab": {
          "base_uri": "https://localhost:8080/"
        },
        "id": "WSbRj67ZFUYl",
        "outputId": "64fa6f33-c0cc-4849-88a9-5edb781daac3"
      },
      "outputs": [
        {
          "output_type": "stream",
          "name": "stdout",
          "text": [
            "\u001b[1m313/313\u001b[0m \u001b[32m━━━━━━━━━━━━━━━━━━━━\u001b[0m\u001b[37m\u001b[0m \u001b[1m3s\u001b[0m 10ms/step - accuracy: 0.7217 - loss: 0.9645\n",
            "Test Accuracy: 72.01%\n"
          ]
        }
      ],
      "source": [
        "# 5. EVALUATING THE MODEL- Evaluate the model's accuracy on unseen test data.\n",
        "test_loss, test_acc = model.evaluate(x_test, y_test)\n",
        "print(f\"Test Accuracy: {test_acc * 100:.2f}%\")"
      ]
    },
    {
      "cell_type": "code",
      "execution_count": null,
      "metadata": {
        "colab": {
          "base_uri": "https://localhost:8080/",
          "height": 449
        },
        "id": "xyY1mZ4cFVpF",
        "outputId": "cdc5bb43-4d24-4e71-ffec-94e51c42aab7"
      },
      "outputs": [
        {
          "output_type": "display_data",
          "data": {
            "text/plain": [
              "<Figure size 640x480 with 1 Axes>"
            ],
            "image/png": "[encoded data removed]"
          },
          "metadata": {}
        }
      ],
      "source": [
        "# Visualizing the perfomance- Plots accuracy over epochs to observe the training progress and helps detect overfitting (when training accuracy is high but validation accuracy is low).\n",
        "\n",
        "plt.plot(history.history['accuracy'], label='Train Accuracy')\n",
        "plt.plot(history.history['val_accuracy'], label='Validation Accuracy')\n",
        "plt.xlabel('Epoch')\n",
        "plt.ylabel('Accuracy')\n",
        "plt.legend()\n",
        "plt.show()"
      ]
    },
    {
      "cell_type": "code",
      "execution_count": null,
      "metadata": {
        "id": "MLwXG4BPVAze"
      },
      "outputs": [],
      "source": [
        "# 6.DATA AUGMENTATION (Enhances the training dataset by applying transformations to prevent overfitting)\n",
        "\n",
        "datagen = keras.preprocessing.image.ImageDataGenerator(\n",
        "    rotation_range=20,  # Rotate images by 20 degrees\n",
        "    width_shift_range=0.2,  # Shift images horizontally by 20% of width\n",
        "    height_shift_range=0.2,  # Shift images vertically by 20% of height\n",
        "    horizontal_flip=True,  # Flip images horizontally\n",
        "    zoom_range=0.2,  # Randomly zoom in\n",
        ")\n",
        "\n",
        "# Fit data augmentation on training data\n",
        "datagen.fit(x_train)"
      ]
    },
    {
      "cell_type": "code",
      "execution_count": null,
      "metadata": {
        "colab": {
          "base_uri": "https://localhost:8080/"
        },
        "id": "R6OmPm8eWFr4",
        "outputId": "9707a642-c43c-4827-b36a-b7665558dabc"
      },
      "outputs": [
        {
          "output_type": "stream",
          "name": "stdout",
          "text": [
            "Epoch 1/10\n",
            "\u001b[1m782/782\u001b[0m \u001b[32m━━━━━━━━━━━━━━━━━━━━\u001b[0m\u001b[37m\u001b[0m \u001b[1m63s\u001b[0m 80ms/step - accuracy: 0.5643 - loss: 1.2718 - val_accuracy: 0.6933 - val_loss: 0.8785\n",
            "Epoch 2/10\n",
            "\u001b[1m782/782\u001b[0m \u001b[32m━━━━━━━━━━━━━━━━━━━━\u001b[0m\u001b[37m\u001b[0m \u001b[1m63s\u001b[0m 81ms/step - accuracy: 0.6053 - loss: 1.1241 - val_accuracy: 0.6682 - val_loss: 0.9716\n",
            "Epoch 3/10\n",
            "\u001b[1m782/782\u001b[0m \u001b[32m━━━━━━━━━━━━━━━━━━━━\u001b[0m\u001b[37m\u001b[0m \u001b[1m63s\u001b[0m 80ms/step - accuracy: 0.6175 - loss: 1.0869 - val_accuracy: 0.6850 - val_loss: 0.9190\n",
            "Epoch 4/10\n",
            "\u001b[1m782/782\u001b[0m \u001b[32m━━━━━━━━━━━━━━━━━━━━\u001b[0m\u001b[37m\u001b[0m \u001b[1m64s\u001b[0m 82ms/step - accuracy: 0.6306 - loss: 1.0461 - val_accuracy: 0.7111 - val_loss: 0.8421\n",
            "Epoch 5/10\n",
            "\u001b[1m782/782\u001b[0m \u001b[32m━━━━━━━━━━━━━━━━━━━━\u001b[0m\u001b[37m\u001b[0m \u001b[1m65s\u001b[0m 83ms/step - accuracy: 0.6375 - loss: 1.0342 - val_accuracy: 0.6856 - val_loss: 0.9371\n",
            "Epoch 6/10\n",
            "\u001b[1m782/782\u001b[0m \u001b[32m━━━━━━━━━━━━━━━━━━━━\u001b[0m\u001b[37m\u001b[0m \u001b[1m62s\u001b[0m 79ms/step - accuracy: 0.6413 - loss: 1.0056 - val_accuracy: 0.7278 - val_loss: 0.7852\n",
            "Epoch 7/10\n",
            "\u001b[1m782/782\u001b[0m \u001b[32m━━━━━━━━━━━━━━━━━━━━\u001b[0m\u001b[37m\u001b[0m \u001b[1m64s\u001b[0m 81ms/step - accuracy: 0.6576 - loss: 0.9705 - val_accuracy: 0.7019 - val_loss: 0.8755\n",
            "Epoch 8/10\n",
            "\u001b[1m782/782\u001b[0m \u001b[32m━━━━━━━━━━━━━━━━━━━━\u001b[0m\u001b[37m\u001b[0m \u001b[1m66s\u001b[0m 84ms/step - accuracy: 0.6597 - loss: 0.9718 - val_accuracy: 0.7041 - val_loss: 0.8804\n",
            "Epoch 9/10\n",
            "\u001b[1m782/782\u001b[0m \u001b[32m━━━━━━━━━━━━━━━━━━━━\u001b[0m\u001b[37m\u001b[0m \u001b[1m81s\u001b[0m 83ms/step - accuracy: 0.6628 - loss: 0.9571 - val_accuracy: 0.7310 - val_loss: 0.7869\n",
            "Epoch 10/10\n",
            "\u001b[1m782/782\u001b[0m \u001b[32m━━━━━━━━━━━━━━━━━━━━\u001b[0m\u001b[37m\u001b[0m \u001b[1m80s\u001b[0m 81ms/step - accuracy: 0.6715 - loss: 0.9359 - val_accuracy: 0.7304 - val_loss: 0.7787\n"
          ]
        }
      ],
      "source": [
        "# Training the Model with Augmented Data\n",
        "\n",
        "history = model.fit(datagen.flow(x_train, y_train, batch_size=64),\n",
        "                    epochs=10, validation_data=(x_test, y_test))"
      ]
    },
    {
      "cell_type": "code",
      "execution_count": null,
      "metadata": {
        "colab": {
          "base_uri": "https://localhost:8080/"
        },
        "outputId": "f4fefdee-2d88-471e-fe06-d07a000bea2b",
        "id": "UpzmEzP5qk6A"
      },
      "outputs": [
        {
          "output_type": "stream",
          "name": "stdout",
          "text": [
            "Augmented Model Test Accuracy: 72.01%\n"
          ]
        }
      ],
      "source": [
        "# test accuracy after data augmentation\n",
        "print(f\"Augmented Model Test Accuracy: {test_acc * 100:.2f}%\")"
      ]
    },
    {
      "cell_type": "code",
      "source": [
        "# 7.TRANSFER LEARNING WITH VGG16 (Instead of learning from scratch, the model reuses knowledge from VGG16 and Faster convergence and higher accuracy with fewer training epochs.)\n",
        "\n",
        "# Load VGG16 without top layers\n",
        "base_model = keras.applications.VGG16(weights='imagenet', # loads pretrained weights from ImageNet.\n",
        "                                      include_top=False, # removes the default classifier head.\n",
        "                                      input_shape=(32, 32, 3))\n",
        "\n",
        "\n",
        "# Freeze the base model (so weights don’t change during training)-fine tuning\n",
        "for layer in base_model.layers:\n",
        "    layer.trainable = False"
      ],
      "metadata": {
        "id": "wTvfYDh4q1da"
      },
      "execution_count": null,
      "outputs": []
    },
    {
      "cell_type": "code",
      "source": [
        "# Add custom classifier layers on top of VGG16 (to allow the CNN model to learn features relevant to the dataset)\n",
        "\n",
        "x = keras.layers.Flatten()(base_model.output)\n",
        "x = keras.layers.Dense(128, activation='relu')(x)\n",
        "x = keras.layers.Dense(10, activation='softmax')(x)  # 10 classes in CIFAR-10\n",
        "\n",
        "# Define new model\n",
        "model = keras.Model(inputs=base_model.input, outputs=x)\n",
        "\n",
        "# Compile the model\n",
        "model.compile(optimizer='adam',\n",
        "              loss='sparse_categorical_crossentropy',\n",
        "              metrics=['accuracy'])"
      ],
      "metadata": {
        "id": "xMxc0I3trIxK"
      },
      "execution_count": null,
      "outputs": []
    },
    {
      "cell_type": "code",
      "source": [
        "# Train the Model\n",
        "history = model.fit(datagen.flow(x_train, y_train, batch_size=64),\n",
        "                    epochs=10, validation_data=(x_test, y_test))"
      ],
      "metadata": {
        "colab": {
          "base_uri": "https://localhost:8080/"
        },
        "id": "Hbls-XPAwu59",
        "outputId": "d5015900-57ad-4a34-822a-879f159278a6"
      },
      "execution_count": 39,
      "outputs": [
        {
          "metadata": {
            "tags": null
          },
          "name": "stdout",
          "output_type": "stream",
          "text": [
            "Epoch 1/10\n"
          ]
        },
        {
          "metadata": {
            "tags": null
          },
          "name": "stderr",
          "output_type": "stream",
          "text": [
            "/usr/local/lib/python3.11/dist-packages/keras/src/trainers/data_adapters/py_dataset_adapter.py:121: UserWarning: Your `PyDataset` class should call `super().__init__(**kwargs)` in its constructor. `**kwargs` can include `workers`, `use_multiprocessing`, `max_queue_size`. Do not pass these arguments to `fit()`, as they will be ignored.\n",
            "  self._warn_if_super_not_called()\n"
          ]
        },
        {
          "output_type": "stream",
          "name": "stdout",
          "text": [
            "\u001b[1m782/782\u001b[0m \u001b[32m━━━━━━━━━━━━━━━━━━━━\u001b[0m\u001b[37m\u001b[0m \u001b[1m566s\u001b[0m 723ms/step - accuracy: 0.3774 - loss: 1.7736 - val_accuracy: 0.5207 - val_loss: 1.3660\n",
            "Epoch 2/10\n",
            "\u001b[1m782/782\u001b[0m \u001b[32m━━━━━━━━━━━━━━━━━━━━\u001b[0m\u001b[37m\u001b[0m \u001b[1m563s\u001b[0m 721ms/step - accuracy: 0.4852 - loss: 1.4676 - val_accuracy: 0.5418 - val_loss: 1.3083\n",
            "Epoch 3/10\n",
            "\u001b[1m782/782\u001b[0m \u001b[32m━━━━━━━━━━━━━━━━━━━━\u001b[0m\u001b[37m\u001b[0m \u001b[1m502s\u001b[0m 642ms/step - accuracy: 0.5045 - loss: 1.4061 - val_accuracy: 0.5284 - val_loss: 1.3336\n",
            "Epoch 4/10\n",
            "\u001b[1m782/782\u001b[0m \u001b[32m━━━━━━━━━━━━━━━━━━━━\u001b[0m\u001b[37m\u001b[0m \u001b[1m560s\u001b[0m 716ms/step - accuracy: 0.5138 - loss: 1.3855 - val_accuracy: 0.5398 - val_loss: 1.3074\n",
            "Epoch 5/10\n",
            "\u001b[1m782/782\u001b[0m \u001b[32m━━━━━━━━━━━━━━━━━━━━\u001b[0m\u001b[37m\u001b[0m \u001b[1m501s\u001b[0m 641ms/step - accuracy: 0.5228 - loss: 1.3638 - val_accuracy: 0.5623 - val_loss: 1.2388\n",
            "Epoch 6/10\n",
            "\u001b[1m782/782\u001b[0m \u001b[32m━━━━━━━━━━━━━━━━━━━━\u001b[0m\u001b[37m\u001b[0m \u001b[1m501s\u001b[0m 641ms/step - accuracy: 0.5228 - loss: 1.3503 - val_accuracy: 0.5617 - val_loss: 1.2482\n",
            "Epoch 7/10\n",
            "\u001b[1m782/782\u001b[0m \u001b[32m━━━━━━━━━━━━━━━━━━━━\u001b[0m\u001b[37m\u001b[0m \u001b[1m559s\u001b[0m 715ms/step - accuracy: 0.5263 - loss: 1.3426 - val_accuracy: 0.5546 - val_loss: 1.2643\n",
            "Epoch 8/10\n",
            "\u001b[1m782/782\u001b[0m \u001b[32m━━━━━━━━━━━━━━━━━━━━\u001b[0m\u001b[37m\u001b[0m \u001b[1m501s\u001b[0m 640ms/step - accuracy: 0.5319 - loss: 1.3257 - val_accuracy: 0.5651 - val_loss: 1.2298\n",
            "Epoch 9/10\n",
            "\u001b[1m782/782\u001b[0m \u001b[32m━━━━━━━━━━━━━━━━━━━━\u001b[0m\u001b[37m\u001b[0m \u001b[1m499s\u001b[0m 638ms/step - accuracy: 0.5322 - loss: 1.3172 - val_accuracy: 0.5758 - val_loss: 1.2132\n",
            "Epoch 10/10\n",
            "\u001b[1m782/782\u001b[0m \u001b[32m━━━━━━━━━━━━━━━━━━━━\u001b[0m\u001b[37m\u001b[0m \u001b[1m497s\u001b[0m 636ms/step - accuracy: 0.5388 - loss: 1.3050 - val_accuracy: 0.5854 - val_loss: 1.1948\n"
          ]
        }
      ]
    },
    {
      "cell_type": "code",
      "source": [
        "# test accuracy after transfer learning\n",
        "print(f\"VGG16 Transfer Final Model Test Accuracy: {test_acc * 100:.2f}%\")"
      ],
      "metadata": {
        "id": "CyiQGhnZxxWa",
        "colab": {
          "base_uri": "https://localhost:8080/"
        },
        "outputId": "b8da6319-59ea-4938-d4a8-f717dae1501a"
      },
      "execution_count": 40,
      "outputs": [
        {
          "output_type": "stream",
          "name": "stdout",
          "text": [
            "VGG16 Transfer Final Model Test Accuracy: 72.01%\n"
          ]
        }
      ]
    },
    {
      "cell_type": "code",
      "source": [
        "# 8. FINE-TUNING THE VGG16 FOR BETTER ACCURACY\n",
        "\n",
        "# Unfreeze the last 4 layers for fine-tuning\n",
        "for layer in base_model.layers[-4:]:\n",
        "    layer.trainable = True\n",
        "\n",
        "# Why only the last 4 layers?\n",
        "\n",
        "# Earlier layers learn general features (edges, textures).\n",
        "# Later layers learn task-specific features (object details).\n",
        "# We fine-tune the later layers while keeping early layers frozen to avoid overfitting and speed up training."
      ],
      "metadata": {
        "id": "_vMX_SYdGpR9"
      },
      "execution_count": 43,
      "outputs": []
    },
    {
      "cell_type": "code",
      "source": [
        "# Compile with lower learning rate for fine-tuning\n",
        "model.compile(optimizer=keras.optimizers.Adam(learning_rate=1e-5),  # Very small learning rate\n",
        "              loss='sparse_categorical_crossentropy',\n",
        "              metrics=['accuracy'])"
      ],
      "metadata": {
        "id": "tXfRuGb4GrTs"
      },
      "execution_count": 48,
      "outputs": []
    },
    {
      "cell_type": "code",
      "source": [
        "history = model.fit(datagen.flow(x_train, y_train, batch_size=64),\n",
        "                    epochs=10, validation_data=(x_test, y_test))"
      ],
      "metadata": {
        "colab": {
          "base_uri": "https://localhost:8080/"
        },
        "id": "o3JziJTnIiiU",
        "outputId": "576c18e9-2ca7-4a88-d200-b8b3ccd97634"
      },
      "execution_count": 49,
      "outputs": [
        {
          "output_type": "stream",
          "name": "stdout",
          "text": [
            "Epoch 1/10\n"
          ]
        },
        {
          "output_type": "stream",
          "name": "stderr",
          "text": [
            "/usr/local/lib/python3.11/dist-packages/keras/src/trainers/data_adapters/py_dataset_adapter.py:121: UserWarning: Your `PyDataset` class should call `super().__init__(**kwargs)` in its constructor. `**kwargs` can include `workers`, `use_multiprocessing`, `max_queue_size`. Do not pass these arguments to `fit()`, as they will be ignored.\n",
            "  self._warn_if_super_not_called()\n"
          ]
        },
        {
          "output_type": "stream",
          "name": "stdout",
          "text": [
            "\u001b[1m782/782\u001b[0m \u001b[32m━━━━━━━━━━━━━━━━━━━━\u001b[0m\u001b[37m\u001b[0m \u001b[1m1661s\u001b[0m 2s/step - accuracy: 0.5555 - loss: 1.2565 - val_accuracy: 0.6306 - val_loss: 1.0549\n",
            "Epoch 2/10\n",
            "\u001b[1m782/782\u001b[0m \u001b[32m━━━━━━━━━━━━━━━━━━━━\u001b[0m\u001b[37m\u001b[0m \u001b[1m1647s\u001b[0m 2s/step - accuracy: 0.5997 - loss: 1.1306 - val_accuracy: 0.6347 - val_loss: 1.0475\n",
            "Epoch 3/10\n",
            "\u001b[1m782/782\u001b[0m \u001b[32m━━━━━━━━━━━━━━━━━━━━\u001b[0m\u001b[37m\u001b[0m \u001b[1m1717s\u001b[0m 2s/step - accuracy: 0.6174 - loss: 1.0795 - val_accuracy: 0.6597 - val_loss: 0.9785\n",
            "Epoch 4/10\n",
            "\u001b[1m782/782\u001b[0m \u001b[32m━━━━━━━━━━━━━━━━━━━━\u001b[0m\u001b[37m\u001b[0m \u001b[1m1643s\u001b[0m 2s/step - accuracy: 0.6315 - loss: 1.0438 - val_accuracy: 0.6763 - val_loss: 0.9297\n",
            "Epoch 5/10\n",
            "\u001b[1m782/782\u001b[0m \u001b[32m━━━━━━━━━━━━━━━━━━━━\u001b[0m\u001b[37m\u001b[0m \u001b[1m1774s\u001b[0m 2s/step - accuracy: 0.6458 - loss: 1.0037 - val_accuracy: 0.6853 - val_loss: 0.9085\n",
            "Epoch 6/10\n",
            "\u001b[1m782/782\u001b[0m \u001b[32m━━━━━━━━━━━━━━━━━━━━\u001b[0m\u001b[37m\u001b[0m \u001b[1m1672s\u001b[0m 2s/step - accuracy: 0.6533 - loss: 0.9780 - val_accuracy: 0.6900 - val_loss: 0.8943\n",
            "Epoch 7/10\n",
            "\u001b[1m782/782\u001b[0m \u001b[32m━━━━━━━━━━━━━━━━━━━━\u001b[0m\u001b[37m\u001b[0m \u001b[1m1703s\u001b[0m 2s/step - accuracy: 0.6618 - loss: 0.9529 - val_accuracy: 0.6872 - val_loss: 0.9009\n",
            "Epoch 8/10\n",
            "\u001b[1m782/782\u001b[0m \u001b[32m━━━━━━━━━━━━━━━━━━━━\u001b[0m\u001b[37m\u001b[0m \u001b[1m1695s\u001b[0m 2s/step - accuracy: 0.6597 - loss: 0.9549 - val_accuracy: 0.7060 - val_loss: 0.8511\n",
            "Epoch 9/10\n",
            "\u001b[1m782/782\u001b[0m \u001b[32m━━━━━━━━━━━━━━━━━━━━\u001b[0m\u001b[37m\u001b[0m \u001b[1m1703s\u001b[0m 2s/step - accuracy: 0.6738 - loss: 0.9232 - val_accuracy: 0.6965 - val_loss: 0.8778\n",
            "Epoch 10/10\n",
            "\u001b[1m782/782\u001b[0m \u001b[32m━━━━━━━━━━━━━━━━━━━━\u001b[0m\u001b[37m\u001b[0m \u001b[1m1697s\u001b[0m 2s/step - accuracy: 0.6776 - loss: 0.9098 - val_accuracy: 0.7055 - val_loss: 0.8561\n"
          ]
        }
      ]
    },
    {
      "cell_type": "code",
      "source": [
        "# EVALUATE AND VISUALIZE ACCURACY\n",
        "\n",
        "# Evaluate on test data\n",
        "test_loss, test_acc = model.evaluate(x_test, y_test)\n",
        "print(f\"Fine-Tuned Test Accuracy: {test_acc * 100:.2f}%\")\n",
        "\n",
        "# Plot accuracy\n",
        "plt.plot(history.history['accuracy'], label='Train Accuracy')\n",
        "plt.plot(history.history['val_accuracy'], label='Validation Accuracy')\n",
        "plt.xlabel('Epoch')\n",
        "plt.ylabel('Accuracy')\n",
        "plt.legend()\n",
        "plt.show()"
      ],
      "metadata": {
        "colab": {
          "base_uri": "https://localhost:8080/",
          "height": 484
        },
        "id": "liSPIyD1_957",
        "outputId": "0eb8ed9c-4a12-4b23-de40-99944907cbdf"
      },
      "execution_count": 50,
      "outputs": [
        {
          "output_type": "stream",
          "name": "stdout",
          "text": [
            "\u001b[1m313/313\u001b[0m \u001b[32m━━━━━━━━━━━━━━━━━━━━\u001b[0m\u001b[37m\u001b[0m \u001b[1m85s\u001b[0m 273ms/step - accuracy: 0.7033 - loss: 0.8600\n",
            "Fine-Tuned Test Accuracy: 70.55%\n"
          ]
        },
        {
          "output_type": "display_data",
          "data": {
            "text/plain": [
              "<Figure size 640x480 with 1 Axes>"
            ],
            "image/png": "[encoded data removed]"
          },
          "metadata": {}
        }
      ]
    }
  ],
  "metadata": {
    "colab": {
      "provenance": [],
      "authorship_tag": "ABX9TyMcLqoNyPAuiowyZa06qKQm",
      "include_colab_link": true
    },
    "kernelspec": {
      "display_name": "Python 3",
      "name": "python3"
    },
    "language_info": {
      "name": "python"
    }
  },
  "nbformat": 4,
  "nbformat_minor": 0
}